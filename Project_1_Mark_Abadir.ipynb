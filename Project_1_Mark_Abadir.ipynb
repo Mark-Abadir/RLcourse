{
  "nbformat": 4,
  "nbformat_minor": 0,
  "metadata": {
    "kernelspec": {
      "display_name": "Python 3",
      "language": "python",
      "name": "python3"
    },
    "language_info": {
      "codemirror_mode": {
        "name": "ipython",
        "version": 3
      },
      "file_extension": ".py",
      "mimetype": "text/x-python",
      "name": "python",
      "nbconvert_exporter": "python",
      "pygments_lexer": "ipython3",
      "version": "3.6.8"
    },
    "colab": {
      "name": "Project 1 Mark Abadir.ipynb",
      "provenance": [],
      "collapsed_sections": []
    }
  },
  "cells": [
    {
      "cell_type": "markdown",
      "metadata": {
        "id": "a6_ir3o78v-o"
      },
      "source": [
        "# P1: Solve the OpenAI Gym [Taxi V3](https://gym.openai.com/envs/Taxi-v3/) Environment\n",
        "---"
      ]
    },
    {
      "cell_type": "markdown",
      "metadata": {
        "id": "-8pMVQUY8v-1"
      },
      "source": [
        "## Introduction\n",
        "[OpenAI Gym](https://gym.openai.com/docs/) is a framework that provides RL environments of varying complexity with the same standard API making it easy to develop and benchmark RL algorithms. The [Taxi-V3](https://gym.openai.com/envs/Taxi-v3/) environmnet present a simple, text environment where actions and state (observations) are both discrete. "
      ]
    },
    {
      "cell_type": "code",
      "metadata": {
        "id": "ofm0YBmj8v-3"
      },
      "source": [
        "import gym"
      ],
      "execution_count": 50,
      "outputs": []
    },
    {
      "cell_type": "markdown",
      "metadata": {
        "id": "nbsI3Ca_8v-5"
      },
      "source": [
        "The `gym.make()` API can be used to spawn any of the available environments by passing its full name."
      ]
    },
    {
      "cell_type": "code",
      "metadata": {
        "id": "dDVkavim8v-6"
      },
      "source": [
        "taxi = gym.make('Taxi-v3')"
      ],
      "execution_count": 51,
      "outputs": []
    },
    {
      "cell_type": "markdown",
      "metadata": {
        "id": "NQ3CgugI8v-8"
      },
      "source": [
        "The Taxi environment has 500 states and 6 possible actions."
      ]
    },
    {
      "cell_type": "code",
      "metadata": {
        "id": "nVxUkugW8v-9",
        "colab": {
          "base_uri": "https://localhost:8080/"
        },
        "outputId": "17e690a8-a573-4957-c4e3-807ec2122d90"
      },
      "source": [
        "taxi.action_space"
      ],
      "execution_count": 52,
      "outputs": [
        {
          "output_type": "execute_result",
          "data": {
            "text/plain": [
              "Discrete(6)"
            ]
          },
          "metadata": {
            "tags": []
          },
          "execution_count": 52
        }
      ]
    },
    {
      "cell_type": "code",
      "metadata": {
        "id": "MEgfQ1HM8v-_",
        "colab": {
          "base_uri": "https://localhost:8080/"
        },
        "outputId": "f5661d76-cff7-42eb-c2e8-84f1f5db3ae9"
      },
      "source": [
        "taxi.observation_space"
      ],
      "execution_count": 53,
      "outputs": [
        {
          "output_type": "execute_result",
          "data": {
            "text/plain": [
              "Discrete(500)"
            ]
          },
          "metadata": {
            "tags": []
          },
          "execution_count": 53
        }
      ]
    },
    {
      "cell_type": "markdown",
      "metadata": {
        "id": "T_3jabLe8v_A"
      },
      "source": [
        "The task and reward structure are described in the [documentation](https://github.com/openai/gym/blob/a5a6ae6bc0a5cfc0ff1ce9be723d59593c165022/gym/envs/toy_text/taxi.py#L25)"
      ]
    },
    {
      "cell_type": "code",
      "metadata": {
        "id": "9GxWMIKK8v_B",
        "colab": {
          "base_uri": "https://localhost:8080/"
        },
        "outputId": "3aeef20a-ef57-4da2-bb04-53fb62eadc03"
      },
      "source": [
        "taxi.reset()\n",
        "taxi.render()"
      ],
      "execution_count": 54,
      "outputs": [
        {
          "output_type": "stream",
          "text": [
            "+---------+\n",
            "|R: | : :\u001b[34;1mG\u001b[0m|\n",
            "| : | : : |\n",
            "| : : : : |\n",
            "| | : | : |\n",
            "|\u001b[35mY\u001b[0m| : |\u001b[43mB\u001b[0m: |\n",
            "+---------+\n",
            "\n"
          ],
          "name": "stdout"
        }
      ]
    },
    {
      "cell_type": "markdown",
      "metadata": {
        "id": "yFs1-vrM8v_C"
      },
      "source": [
        "## Submission\n",
        "- Submit your solution as a Jupyter notebook. \n",
        "- Ensure that all cells in the notebook have been executed and the output is showing\n",
        "- Ensure that your solution consistently reaches the average cumulative reward defined in the rubric (link below)\n",
        "- Post your solution on Github and share the link to your commit as a direct message in Slack"
      ]
    },
    {
      "cell_type": "markdown",
      "metadata": {
        "id": "uOarXL1V8v_F"
      },
      "source": [
        "## Evaluation\n",
        "The goal of the project is to get a certain average (cumulative) reward over 100 episodes. To pass the project, you must meet all the requirments in the project [rubric](https://github.com/KnowchowHQ/rl-in-action/blob/master/C1-RL-Intro/W3OH/P1-rubric.md)"
      ]
    },
    {
      "cell_type": "markdown",
      "metadata": {
        "id": "5hVFzyBHSKM0"
      },
      "source": [
        "# Part 1\n",
        "\n",
        "The methods are as follows:\n",
        "* `seed()`: generate a seeded random number generator.\n",
        "* `reset()`: reset the environment (randomly select new starting state and reset `lastaction` variable\n",
        "* `step(action)`: take a step with an action to advance the state\n",
        "\n",
        "Variables:\n",
        "* `isd`: distribution modelling the probabilities of a certain initial state\n",
        "* `lastaction`: the previous executed action\n",
        "* `nS`: Number of states\n",
        "* `nA`: Number of actions\n",
        "* `action_space`: object with all possible actions\n",
        "* `observation_space`: object with all possible states\n",
        "* `s`: current state\n",
        "\n",
        "# Part 2\n",
        "\n",
        "Methods:\n",
        "* `encode(row, col, pass_loc, dest_idx)`: Convert the 4-tuple state into a single integer\n",
        "* `decode(i)`: Convert a state integer into a 4-tuple\n",
        "* `render()`: Render the state by printing it out\n",
        "\n",
        "Variables:\n",
        "* `locs`: locations of possible pickup and drop off places\n",
        "* `num_states`: number of states\n",
        "* `num_rows, num_columns`: dimensions of the board\n",
        "* `max_row, max_col`: max index of each dimension\n",
        "* `initial_state_distrib`: like isd above\n",
        "* `num_actions`: number of actions\n",
        "\n",
        "# Part 3\n",
        "\n",
        "The environment is a 5x5 grid of locations the taxi can occupy. 4 of these locations are possible pickup and dropoff locations (labeled R, G, B, and Y). The passenger can exist at any one of these 4 locations or in the taxi.\n",
        "\n",
        "The taxi has 6 actions\n",
        "* Move in a cardinal direction\n",
        "* Pick up the passenger\n",
        "* Drop off the passenger\n",
        "\n",
        "The state contains all necessary information. That is, the posiiton of the taxi, the location of the passenger in one of its valid positions (R, G, B, Y, taxi), and the destination (R, G, B or Y)\n",
        "\n",
        "The rewards are as follows\n",
        "* Each step is -1, to encourage short trips\n",
        "* A valid drop off is +20, to encourage the agent to make the drop off\n",
        "* An invalid pickup or drop off is -10, to discourage misused pickup and drop off actions."
      ]
    },
    {
      "cell_type": "code",
      "metadata": {
        "id": "2pr6w864Mv-q"
      },
      "source": [
        "import pandas as pd\n",
        "import numpy as np\n",
        "from matplotlib import pyplot as plt\n",
        "from tqdm import tqdm"
      ],
      "execution_count": 55,
      "outputs": []
    },
    {
      "cell_type": "code",
      "metadata": {
        "id": "sJuT-20oFbKK"
      },
      "source": [
        "def epsilon_greedy_action_from_Q(Q, state, epsilon):\n",
        "  actions = Q.columns\n",
        "  greedy_action = np.argmax(Q.loc[state].values)\n",
        "\n",
        "  action_probs = np.asarray([epsilon/len(actions)]*len(actions), dtype=np.float)\n",
        "  action_probs[greedy_action] += 1 - epsilon\n",
        "\n",
        "  epsilon_greedy_choice = np.random.choice(Q.columns, p=action_probs)\n",
        "\n",
        "  return epsilon_greedy_choice\n",
        "\n",
        "def run_sarsa(hyper_params):\n",
        "  Q = pd.DataFrame.from_dict({s:{a: 0 for a in range(taxi.action_space.n)} for s in range(taxi.observation_space.n)}, orient=\"index\")\n",
        "\n",
        "  epsilon = hyper_params[\"epsilon_init\"]\n",
        "  rewards = np.zeros(hyper_params[\"num_episodes\"])\n",
        "  illegal_action_episodes = set()\n",
        "\n",
        "  for ep_num in tqdm(range(hyper_params[\"num_episodes\"]), position=0, leave=True):\n",
        "    s0 = taxi.reset()\n",
        "    a0 = epsilon_greedy_action_from_Q(Q, s0, epsilon)\n",
        "    done = False\n",
        "\n",
        "    episode_reward = 0\n",
        "    while True:\n",
        "      if done:\n",
        "        break\n",
        "\n",
        "      s1, reward, done, _ = taxi.step(a0)\n",
        "      a1 = epsilon_greedy_action_from_Q(Q, s1, epsilon)\n",
        "\n",
        "      Q.loc[s0, a0] += \\\n",
        "      hyper_params[\"alpha\"]*(reward + hyper_params[\"gamma\"]*Q.loc[s1, a1] - Q.loc[s0, a0])\n",
        "\n",
        "      s0, a0 = s1, a1\n",
        "      episode_reward += reward\n",
        "\n",
        "      if ep_num >= hyper_params[\"num_episodes\"] - 1000 and reward == -10:\n",
        "        illegal_action_episodes.add(ep_num)\n",
        "\n",
        "    rewards[ep_num] = episode_reward\n",
        "    if ep_num > hyper_params[\"epsilon_decay_delay\"]:\n",
        "      epsilon = max(epsilon*hyper_params[\"epsilon_decay\"], hyper_params[\"epsilon_min\"])\n",
        "  \n",
        "  print(\"Illegal pickups/dropoffs occurred in \" + str(len(illegal_action_episodes)) + \" of the last 1000 episodes\")\n",
        "  return Q, rewards\n",
        "\n",
        "def read_rewards(rewards):\n",
        "  windowed_rewards = np.convolve(rewards, np.ones(100)/100, 'valid')\n",
        "  last_1000 = windowed_rewards[-900:]\n",
        "  \n",
        "  print()\n",
        "  print(\"50th percentile: \" + str(np.percentile(last_1000, 50)))\n",
        "  print(\"95th percentile: \" + str(np.percentile(last_1000, 95)))\n",
        "\n",
        "  plt.plot(windowed_rewards)\n",
        "  plt.xlabel(\"episode\")\n",
        "  plt.ylabel(\"reward\")\n",
        "  plt.show()\n",
        "\n",
        "def display_episode(Q):\n",
        "  for _ in range(50):\n",
        "    s = taxi.reset()\n",
        "    a = epsilon_greedy_action_from_Q(Q, s, 0)\n",
        "    s, _, done, _ = taxi.step(a)\n",
        "\n",
        "    taxi.render()\n",
        "\n",
        "    if done:\n",
        "      break"
      ],
      "execution_count": 98,
      "outputs": []
    },
    {
      "cell_type": "markdown",
      "metadata": {
        "id": "Dw3BgRGo77MC"
      },
      "source": [
        "# Parts 4, 5, and 6\n",
        "\n",
        "My results for various sets of hyper parameters can be seen in the table below. To test them for yourself, you can call `run_sarsa(h)` where `h` is one of the hyper params dicts defined in the cell below.\n",
        "\n",
        "| hyper_parameter_set | 50th percentile | 95th percentile |\n",
        "|---------------------|-----------------|-----------------|\n",
        "| `hyper_params_1`    | -5.2            | -2.7            |\n",
        "| `hyper_params_2`    | 5.19            | 6.31            |\n",
        "| `hyper_params_3`    | 8.06            | 8.42            |\n",
        "\n",
        "My fixed hyper parameter choices\n",
        "\n",
        "1. `num_episodes`: Will be no greater than 10000 for the sake of time efficiency\n",
        "2. `epsilon_init`: Will be set to 1 initially, for completely random episodes at the beginning of SARSA. Will not change.\n",
        "3. maximum episode length: There is no max episode length as I want the reward for a successful dropoff factored in at each episode \n",
        "\n",
        "I decided to start at the following hyper params for my first test (which can be found in `hyper_params_1`)\n",
        "\n",
        "1. `num_episodes`: 10000, my max, to check if the algorithm will converge\n",
        "2. `epsilon_min`: 0.05, since we want it to decay to almost nothing so as to not explore on the final 1000 episodes\n",
        "3. `epsilon_decay_delay`: 500, to allow for many initial episodes of pure explorations \n",
        "4. `alpha`: 0.01, to make small changes\n",
        "5. `gamma`: 0.99, to moderately discount future returns\n",
        "\n",
        "The results weren't good and my graph of windowed rewards over time didn't show convergence so I decided to make the following changes (found in `hyper_params_2`)\n",
        "\n",
        "1. `alpha`: increased to 0.04. More aggressive changes will be needed for faster convergence. \n",
        "2. `epsilon_decay_delay`: The epochs at the beginning with random exploration seemed to merely delay the start of useful training so I decided to reduce the number of epochs pure exploration epochs to 100.\n",
        "\n",
        "Results improved greatly and the graph converged in 10000 episodes. Though I suspected improved training would come from not discounting further rewards so much. So I made the following changes (found in `hyper_params_3`).\n",
        "\n",
        "1. `gamma`: increased gamma to 0.999, therefore policies that direct towards a correct dropoff would more prominantly emphasize the reward of a correct dropoff\n",
        "2. `epislon_min`: set to 0 since we want virtually no exploration in the final episodes, so as to boost the windowed returns that will be used for results.\n",
        "\n",
        "And as you can see from the table, the 50th precentile and 95th precentile were in range. As well, no illegal dropoffs or pickups were performed in the last 1000 episodes."
      ]
    },
    {
      "cell_type": "code",
      "metadata": {
        "colab": {
          "base_uri": "https://localhost:8080/",
          "height": 371
        },
        "id": "LoH1WirtF7kW",
        "outputId": "d87c8062-d1e0-4eb0-d8f0-1e97bb88e8b4"
      },
      "source": [
        "hyper_params_1 = {\n",
        "    \"num_episodes\": 10000,\n",
        "    \"epsilon_init\": 1,\n",
        "    \"epsilon_decay\": 0.99,\n",
        "    \"epsilon_decay_delay\": 500,\n",
        "    \"epsilon_min\": 0.05,\n",
        "    \"alpha\": 0.01,\n",
        "    \"gamma\": 0.99\n",
        "}\n",
        "\n",
        "hyper_params_2 = {\n",
        "    \"num_episodes\": 10000,\n",
        "    \"epsilon_init\": 1,\n",
        "    \"epsilon_decay\": 0.99,\n",
        "    \"epsilon_decay_delay\": 100,\n",
        "    \"epsilon_min\": 0.05,\n",
        "    \"alpha\": 0.04,\n",
        "    \"gamma\": 0.99\n",
        "}\n",
        "\n",
        "hyper_params_3 = {\n",
        "    \"num_episodes\": 10000,\n",
        "    \"epsilon_init\": 1,\n",
        "    \"epsilon_decay\": 0.99,\n",
        "    \"epsilon_decay_delay\": 100,\n",
        "    \"epsilon_min\": 0.00,\n",
        "    \"alpha\": 0.04,\n",
        "    \"gamma\": 0.999\n",
        "}\n",
        "\n",
        "Q_final, rewards = run_sarsa(hyper_params_3)\n",
        "read_rewards(rewards)"
      ],
      "execution_count": 99,
      "outputs": [
        {
          "output_type": "stream",
          "text": [
            "100%|██████████| 10000/10000 [03:03<00:00, 54.40it/s]\n"
          ],
          "name": "stderr"
        },
        {
          "output_type": "stream",
          "text": [
            "Illegal pickups/dropoffs occurred in 0 of the last 1000 episodes\n",
            "\n",
            "50th percentile: 8.06\n",
            "95th percentile: 8.42\n"
          ],
          "name": "stdout"
        },
        {
          "output_type": "display_data",
          "data": {
            "image/png": "[encoded data removed]",
            "text/plain": [
              "<Figure size 432x288 with 1 Axes>"
            ]
          },
          "metadata": {
            "tags": [],
            "needs_background": "light"
          }
        }
      ]
    }
  ]
}